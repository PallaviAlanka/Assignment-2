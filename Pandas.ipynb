{
 "cells": [
  {
   "cell_type": "code",
   "execution_count": 1,
   "id": "6ea439dd",
   "metadata": {},
   "outputs": [
    {
     "name": "stdout",
     "output_type": "stream",
     "text": [
      "Original DataFrames:\n",
      "  student_id              name  marks\n",
      "0         S1  Danniella Fenton    200\n",
      "1         S2      Ryder Storey    210\n",
      "2         S3      Bryce Jensen    190\n",
      "3         S4         Ed Bernal    222\n",
      "4         S5       Kwame Morin    199\n",
      "-------------------------------------\n",
      "  student_id              name  marks\n",
      "0         S4  Scarlette Fisher    201\n",
      "1         S5  Carla Williamson    200\n",
      "2         S6       Dante Morse    198\n",
      "3         S7    Kaiser William    219\n",
      "4         S8   Madeeha Preston    201\n",
      "\n",
      "Join the said two dataframes along rows:\n",
      "  student_id              name  marks\n",
      "0         S1  Danniella Fenton    200\n",
      "1         S2      Ryder Storey    210\n",
      "2         S3      Bryce Jensen    190\n",
      "3         S4         Ed Bernal    222\n",
      "4         S5       Kwame Morin    199\n",
      "0         S4  Scarlette Fisher    201\n",
      "1         S5  Carla Williamson    200\n",
      "2         S6       Dante Morse    198\n",
      "3         S7    Kaiser William    219\n",
      "4         S8   Madeeha Preston    201\n"
     ]
    }
   ],
   "source": [
    "import pandas as pd\n",
    "\n",
    "student_data1 = pd.DataFrame({\n",
    "        'student_id': ['S1', 'S2', 'S3', 'S4', 'S5'],\n",
    "         'name': ['Danniella Fenton', 'Ryder Storey', 'Bryce Jensen', 'Ed Bernal', 'Kwame Morin'], \n",
    "        'marks': [200, 210, 190, 222, 199]})\n",
    "\n",
    "student_data2 = pd.DataFrame({\n",
    "        'student_id': ['S4', 'S5', 'S6', 'S7', 'S8'],\n",
    "        'name': ['Scarlette Fisher', 'Carla Williamson', 'Dante Morse', 'Kaiser William', 'Madeeha Preston'], \n",
    "        'marks': [201, 200, 198, 219, 201]})\n",
    "\n",
    "print(\"Original DataFrames:\")\n",
    "print(student_data1)\n",
    "print(\"-------------------------------------\")\n",
    "print(student_data2)\n",
    "print(\"\\nJoin the said two dataframes along rows:\")\n",
    "result_data = pd.concat([student_data1, student_data2])\n",
    "print(result_data)"
   ]
  },
  {
   "cell_type": "code",
   "execution_count": 2,
   "id": "4105afaf",
   "metadata": {},
   "outputs": [
    {
     "name": "stdout",
     "output_type": "stream",
     "text": [
      "0    Danniella Fenton\n",
      "1        Ryder Storey\n",
      "2        Bryce Jensen\n",
      "3           Ed Bernal\n",
      "4         Kwame Morin\n",
      "Name: name, dtype: object\n"
     ]
    }
   ],
   "source": [
    "print(student_data1['name'])"
   ]
  },
  {
   "cell_type": "code",
   "execution_count": 3,
   "id": "25a075bc",
   "metadata": {},
   "outputs": [
    {
     "name": "stdout",
     "output_type": "stream",
     "text": [
      "student_id              S2\n",
      "name          Ryder Storey\n",
      "marks                  210\n",
      "Name: 1, dtype: object\n"
     ]
    }
   ],
   "source": [
    "print(student_data1.loc[1])"
   ]
  },
  {
   "cell_type": "code",
   "execution_count": 4,
   "id": "cccf04a8",
   "metadata": {},
   "outputs": [
    {
     "name": "stdout",
     "output_type": "stream",
     "text": [
      "student_id             S6\n",
      "name          Dante Morse\n",
      "marks                 198\n",
      "Name: 2, dtype: object\n"
     ]
    }
   ],
   "source": [
    "print(student_data2.loc[2])"
   ]
  },
  {
   "cell_type": "code",
   "execution_count": 5,
   "id": "06c004b2",
   "metadata": {},
   "outputs": [
    {
     "name": "stdout",
     "output_type": "stream",
     "text": [
      "  student_id          name  marks\n",
      "1         S2  Ryder Storey    210\n",
      "3         S4     Ed Bernal    222\n"
     ]
    }
   ],
   "source": [
    "filtered = student_data1[student_data1['marks'] > 200]\n",
    "print(filtered)"
   ]
  },
  {
   "cell_type": "code",
   "execution_count": 6,
   "id": "02bbe09b",
   "metadata": {},
   "outputs": [
    {
     "name": "stdout",
     "output_type": "stream",
     "text": [
      "  student_id              name  marks\n",
      "2         S3      Bryce Jensen    190\n",
      "0         S1  Danniella Fenton    200\n",
      "3         S4         Ed Bernal    222\n",
      "4         S5       Kwame Morin    199\n",
      "1         S2      Ryder Storey    210\n"
     ]
    }
   ],
   "source": [
    "sorted_ind=student_data1.sort_values('name')\n",
    "print(sorted_ind)"
   ]
  },
  {
   "cell_type": "code",
   "execution_count": 7,
   "id": "4f470888",
   "metadata": {},
   "outputs": [
    {
     "name": "stdout",
     "output_type": "stream",
     "text": [
      "  employee        group  hired_date\n",
      "0      bob   Accounting        2008\n",
      "1     jake  engineering        2012\n",
      "2     lisa  engineering        2014\n",
      "3      sue           HR        2003\n"
     ]
    }
   ],
   "source": [
    "df1= pd.DataFrame({\n",
    "        'employee': ['bob', 'jake', 'lisa', 'sue'],\n",
    "         'group': ['Accounting', 'engineering', 'engineering', 'HR'], \n",
    "        'hired_date': [2008, 2012, 2014, 2003]})\n",
    "print(df1)"
   ]
  },
  {
   "cell_type": "code",
   "execution_count": 8,
   "id": "2b93775d",
   "metadata": {},
   "outputs": [
    {
     "name": "stdout",
     "output_type": "stream",
     "text": [
      "         group supervisor  hired_date\n",
      "0   Accounting      carle        2008\n",
      "1  engineering      guide        2012\n",
      "2           HR      steve        2014\n"
     ]
    }
   ],
   "source": [
    "df2 = pd.DataFrame({\n",
    "        'group': ['Accounting', 'engineering', 'HR'],\n",
    "         'supervisor': ['carle', 'guide', 'steve'],\n",
    "        'hired_date': [2008,2012,2014]})\n",
    "print(df2)"
   ]
  },
  {
   "cell_type": "code",
   "execution_count": 9,
   "id": "d9d3976a",
   "metadata": {},
   "outputs": [
    {
     "name": "stdout",
     "output_type": "stream",
     "text": [
      "  employee        group  hired_date supervisor\n",
      "0      bob   Accounting        2008      carle\n",
      "1     jake  engineering        2012      guide\n"
     ]
    }
   ],
   "source": [
    "p=pd.merge(df1,df2)\n",
    "print(p)"
   ]
  },
  {
   "cell_type": "code",
   "execution_count": 10,
   "id": "597bc022",
   "metadata": {},
   "outputs": [
    {
     "name": "stdout",
     "output_type": "stream",
     "text": [
      "         group supervisor  hired_date employee\n",
      "0   Accounting      carle        2008      bob\n",
      "1  engineering      guide        2012     jake\n"
     ]
    }
   ],
   "source": [
    "p=pd.merge(df2,df1)\n",
    "print(p)"
   ]
  },
  {
   "cell_type": "markdown",
   "id": "010f1464",
   "metadata": {},
   "source": [
    "### concat-- It is used to merge two datasets\n",
    "### loc-- loc property of the DataFrame object allows the return of specified rows  \n",
    "### sort_values - sorts based on the name\n",
    "### merge - The merge() method updates the content of two DataFrame by merging them together\n",
    "### Concat function concatenates dataframes along rows or columns\n",
    "### Merge combines dataframes based on values in shared columns. Merge function offers more flexibility compared to concat function because it allows combinations based on a condition."
   ]
  },
  {
   "cell_type": "code",
   "execution_count": null,
   "id": "abf71d8c",
   "metadata": {},
   "outputs": [],
   "source": []
  }
 ],
 "metadata": {
  "kernelspec": {
   "display_name": "Python 3 (ipykernel)",
   "language": "python",
   "name": "python3"
  },
  "language_info": {
   "codemirror_mode": {
    "name": "ipython",
    "version": 3
   },
   "file_extension": ".py",
   "mimetype": "text/x-python",
   "name": "python",
   "nbconvert_exporter": "python",
   "pygments_lexer": "ipython3",
   "version": "3.10.0"
  }
 },
 "nbformat": 4,
 "nbformat_minor": 5
}
