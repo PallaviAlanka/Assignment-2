{
 "cells": [
  {
   "cell_type": "code",
   "execution_count": 1,
   "id": "2ef04ced",
   "metadata": {},
   "outputs": [],
   "source": [
    "import numpy as np\n",
    "import pandas as pd"
   ]
  },
  {
   "cell_type": "code",
   "execution_count": 2,
   "id": "2462d104",
   "metadata": {},
   "outputs": [],
   "source": [
    "a=10\n",
    "b=5"
   ]
  },
  {
   "cell_type": "code",
   "execution_count": 3,
   "id": "85529a17",
   "metadata": {},
   "outputs": [
    {
     "name": "stdout",
     "output_type": "stream",
     "text": [
      "15\n"
     ]
    }
   ],
   "source": [
    "print(a+b)"
   ]
  },
  {
   "cell_type": "code",
   "execution_count": 4,
   "id": "ea4b1f2f",
   "metadata": {},
   "outputs": [
    {
     "name": "stdout",
     "output_type": "stream",
     "text": [
      "50\n"
     ]
    }
   ],
   "source": [
    "print(a*b)"
   ]
  },
  {
   "cell_type": "code",
   "execution_count": 5,
   "id": "9e92592f",
   "metadata": {},
   "outputs": [
    {
     "name": "stdout",
     "output_type": "stream",
     "text": [
      "100000\n"
     ]
    }
   ],
   "source": [
    "print(a**b)"
   ]
  },
  {
   "cell_type": "code",
   "execution_count": 6,
   "id": "5f6db644",
   "metadata": {},
   "outputs": [
    {
     "name": "stdout",
     "output_type": "stream",
     "text": [
      "5\n"
     ]
    }
   ],
   "source": [
    "print(a-b)"
   ]
  },
  {
   "cell_type": "code",
   "execution_count": 7,
   "id": "01d77f1e",
   "metadata": {},
   "outputs": [
    {
     "name": "stdout",
     "output_type": "stream",
     "text": [
      "[ 6 11 15]\n"
     ]
    }
   ],
   "source": [
    "a=np.array([2,6,7])\n",
    "c=np.array([4,5,8])\n",
    "print(a+c)"
   ]
  },
  {
   "cell_type": "code",
   "execution_count": 8,
   "id": "db41140e",
   "metadata": {},
   "outputs": [
    {
     "name": "stdout",
     "output_type": "stream",
     "text": [
      "[-2  1 -1]\n"
     ]
    }
   ],
   "source": [
    "a=np.array([2,6,7])\n",
    "c=np.array([4,5,8])\n",
    "print(a-c)"
   ]
  },
  {
   "cell_type": "code",
   "execution_count": 9,
   "id": "bd843802",
   "metadata": {},
   "outputs": [
    {
     "name": "stdout",
     "output_type": "stream",
     "text": [
      "[ 8 30 56]\n"
     ]
    }
   ],
   "source": [
    "a=np.array([2,6,7])\n",
    "c=np.array([4,5,8])\n",
    "print(a*c)"
   ]
  },
  {
   "cell_type": "code",
   "execution_count": 10,
   "id": "01b58396",
   "metadata": {},
   "outputs": [
    {
     "name": "stdout",
     "output_type": "stream",
     "text": [
      "[0.5   1.2   0.875]\n"
     ]
    }
   ],
   "source": [
    "a=np.array([2,6,7])\n",
    "c=np.array([4,5,8])\n",
    "print(a/c)"
   ]
  },
  {
   "cell_type": "code",
   "execution_count": 11,
   "id": "fe71fe70",
   "metadata": {},
   "outputs": [
    {
     "name": "stdout",
     "output_type": "stream",
     "text": [
      "[2.         0.83333333 1.14285714]\n"
     ]
    }
   ],
   "source": [
    "a=np.array([2,6,7])\n",
    "c=np.array([4,5,8])\n",
    "print(c/a)"
   ]
  },
  {
   "cell_type": "code",
   "execution_count": 12,
   "id": "d6c0d6cd",
   "metadata": {},
   "outputs": [
    {
     "name": "stdout",
     "output_type": "stream",
     "text": [
      "[2 1 7]\n"
     ]
    }
   ],
   "source": [
    "a=np.array([2,6,7])\n",
    "c=np.array([4,5,8])\n",
    "print(a%c)"
   ]
  },
  {
   "cell_type": "code",
   "execution_count": 13,
   "id": "a705fcd2",
   "metadata": {},
   "outputs": [
    {
     "name": "stdout",
     "output_type": "stream",
     "text": [
      "[[ 1 23 78]\n",
      " [98 60 75]\n",
      " [79 25 48]]\n",
      "1\n",
      "98\n"
     ]
    }
   ],
   "source": [
    "arr=np.array([[1,23,78],[98,60,75],[79,25,48]])\n",
    "print(arr)\n",
    "print(np.amin(arr))\n",
    "print(np.amax(arr))"
   ]
  },
  {
   "cell_type": "code",
   "execution_count": 14,
   "id": "e7bafa9b",
   "metadata": {},
   "outputs": [
    {
     "name": "stdout",
     "output_type": "stream",
     "text": [
      "[2 6 7]\n",
      "5.0\n"
     ]
    }
   ],
   "source": [
    "import numpy as np\n",
    "a=np.array([2,6,7])\n",
    "print(a)\n",
    "print(np.mean(a))"
   ]
  },
  {
   "cell_type": "code",
   "execution_count": 15,
   "id": "2aedbc06",
   "metadata": {},
   "outputs": [
    {
     "name": "stdout",
     "output_type": "stream",
     "text": [
      "[4 5 8]\n",
      "5.0\n"
     ]
    }
   ],
   "source": [
    "import numpy as np\n",
    "a=np.array([4,5,8])\n",
    "print(a)\n",
    "print(np.median(a))"
   ]
  },
  {
   "cell_type": "code",
   "execution_count": 16,
   "id": "ec8d6a55",
   "metadata": {},
   "outputs": [
    {
     "name": "stdout",
     "output_type": "stream",
     "text": [
      "[12 20 15]\n",
      "3.2998316455372216\n",
      "\n",
      "\n",
      "10.888888888888888\n"
     ]
    }
   ],
   "source": [
    "import numpy as np\n",
    "a=np.array([12,20,15])\n",
    "print(a)\n",
    "print(np.std(a))\n",
    "print(\"\\n\")\n",
    "print(np.var(a))"
   ]
  },
  {
   "cell_type": "markdown",
   "id": "59cb1d68",
   "metadata": {},
   "source": [
    "### Performed mathematical and statstical operations (addition, subraction ,median, mode etc)"
   ]
  },
  {
   "cell_type": "code",
   "execution_count": null,
   "id": "6e34ac68",
   "metadata": {},
   "outputs": [],
   "source": []
  }
 ],
 "metadata": {
  "kernelspec": {
   "display_name": "Python 3 (ipykernel)",
   "language": "python",
   "name": "python3"
  },
  "language_info": {
   "codemirror_mode": {
    "name": "ipython",
    "version": 3
   },
   "file_extension": ".py",
   "mimetype": "text/x-python",
   "name": "python",
   "nbconvert_exporter": "python",
   "pygments_lexer": "ipython3",
   "version": "3.10.0"
  }
 },
 "nbformat": 4,
 "nbformat_minor": 5
}
